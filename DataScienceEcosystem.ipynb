{
 "cells": [
  {
   "cell_type": "markdown",
   "id": "e8bcc823",
   "metadata": {},
   "source": [
    "**DataScienceEcosystem**\n"
   ]
  },
  {
   "cell_type": "markdown",
   "id": "53775c30",
   "metadata": {},
   "source": [
    "In this notebook, Data Science Tools and Ecosystem are summarized."
   ]
  },
  {
   "cell_type": "markdown",
   "id": "9eb486b8",
   "metadata": {},
   "source": [
    "Some of the popular languages that Data Scientists use are: Python, R, SQL,Scala, C++, Java, Julia, JS, Php etc."
   ]
  },
  {
   "cell_type": "markdown",
   "id": "0d0c4983",
   "metadata": {},
   "source": [
    "Some of the commonly used libraries used by Data Scientists include:Tensor Flow, Pandas, NumPy, Matplot Lib, Seaborn, Scikit, Keras, Pytouch."
   ]
  },
  {
   "cell_type": "markdown",
   "id": "5a8ca776",
   "metadata": {},
   "source": [
    "|Data Science Tools|\n",
    "----\n",
    "|Anaconda|\n",
    "|VS Code|\n",
    "|RStudio|"
   ]
  },
  {
   "cell_type": "markdown",
   "id": "6c4e73f4",
   "metadata": {},
   "source": [
    "Below are a few examples of evaluating arithmetic expressions in Python"
   ]
  },
  {
   "cell_type": "code",
   "execution_count": 4,
   "id": "5a27e989",
   "metadata": {},
   "outputs": [
    {
     "data": {
      "text/plain": [
       "17"
      ]
     },
     "execution_count": 4,
     "metadata": {},
     "output_type": "execute_result"
    }
   ],
   "source": [
    "#This a simple arithmetic expression to mutiply then add integers\n",
    "(3*4)+5"
   ]
  },
  {
   "cell_type": "code",
   "execution_count": 5,
   "id": "b59bca37",
   "metadata": {},
   "outputs": [
    {
     "data": {
      "text/plain": [
       "3.3333333333333335"
      ]
     },
     "execution_count": 5,
     "metadata": {},
     "output_type": "execute_result"
    }
   ],
   "source": [
    "#This will convert 200 minutes to hours by diving by 60\n",
    "200/60"
   ]
  },
  {
   "cell_type": "markdown",
   "id": "c5d175ad",
   "metadata": {},
   "source": [
    "Objectives:\n",
    "-----\n",
    "List popular languages for Data Science, List commonly used libraries used by Data Scientists, Table structure creation, mathematic calculation, Adding comments in code"
   ]
  },
  {
   "cell_type": "markdown",
   "id": "9760935a",
   "metadata": {},
   "source": [
    "**Author:** Yury R"
   ]
  },
  {
   "cell_type": "code",
   "execution_count": null,
   "id": "e04a9185",
   "metadata": {},
   "outputs": [],
   "source": []
  }
 ],
 "metadata": {
  "kernelspec": {
   "display_name": "Python 3 (ipykernel)",
   "language": "python",
   "name": "python3"
  },
  "language_info": {
   "codemirror_mode": {
    "name": "ipython",
    "version": 3
   },
   "file_extension": ".py",
   "mimetype": "text/x-python",
   "name": "python",
   "nbconvert_exporter": "python",
   "pygments_lexer": "ipython3",
   "version": "3.11.3"
  }
 },
 "nbformat": 4,
 "nbformat_minor": 5
}
