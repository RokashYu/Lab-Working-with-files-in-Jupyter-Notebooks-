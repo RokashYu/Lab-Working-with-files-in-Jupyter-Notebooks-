{
 "cells": [
  {
   "cell_type": "markdown",
   "id": "d6c00b7a",
   "metadata": {},
   "source": [
    "# DataScienceEcosystem\n"
   ]
  },
  {
   "cell_type": "markdown",
   "id": "28515e04",
   "metadata": {},
   "source": [
    "In this notebook, Data Science Tools and Ecosystem are summarized."
   ]
  },
  {
   "cell_type": "markdown",
   "id": "54554376",
   "metadata": {},
   "source": [
    "Some of the popular languages that Data Scientists use are: \n",
    "1. Python,\n",
    "2. R, \n",
    "3. SQL,Scala, \n",
    "4. C++, \n",
    "5. Java, \n",
    "6. Julia, \n",
    "7. JS, \n",
    "8. Php."
   ]
  },
  {
   "cell_type": "markdown",
   "id": "a1d5f8f5",
   "metadata": {},
   "source": [
    "Some of the commonly used libraries used by Data Scientists include:\n",
    "1. Tensor Flow, \n",
    "2. Pandas, \n",
    "3. NumPy,\n",
    "4. Matplot Lib, \n",
    "5. Seaborn, \n",
    "6. Scikit, \n",
    "7. Keras, \n",
    "8. Pytouch."
   ]
  },
  {
   "cell_type": "markdown",
   "id": "4174475e",
   "metadata": {},
   "source": [
    "|Data Science Tools|\n",
    "----\n",
    "|Anaconda|\n",
    "|VS Code|\n",
    "|RStudio|"
   ]
  },
  {
   "cell_type": "markdown",
   "id": "3f52c130",
   "metadata": {},
   "source": [
    "### Below are a few examples of evaluating arithmetic expressions in Python"
   ]
  },
  {
   "cell_type": "code",
   "execution_count": 6,
   "id": "c6aec560",
   "metadata": {},
   "outputs": [
    {
     "data": {
      "text/plain": [
       "17"
      ]
     },
     "execution_count": 6,
     "metadata": {},
     "output_type": "execute_result"
    }
   ],
   "source": [
    "#This a simple arithmetic expression to mutiply then add integers\n",
    "(3*4)+5"
   ]
  },
  {
   "cell_type": "code",
   "execution_count": 5,
   "id": "7237ede0",
   "metadata": {},
   "outputs": [
    {
     "data": {
      "text/plain": [
       "3.3333333333333335"
      ]
     },
     "execution_count": 5,
     "metadata": {},
     "output_type": "execute_result"
    }
   ],
   "source": [
    "#This will convert 200 minutes to hours by diving by 60\n",
    "200/60"
   ]
  },
  {
   "cell_type": "markdown",
   "id": "a8660ece",
   "metadata": {},
   "source": [
    "Objectives:\n",
    "* List popular languages for Data Science, \n",
    "* List commonly used libraries used by Data Scientists, \n",
    "* Table structure creation, \n",
    "* mathematic calculation, \n",
    "* Adding comments in code."
   ]
  },
  {
   "cell_type": "markdown",
   "id": "2f9428ad",
   "metadata": {},
   "source": [
    "## Author:\n",
    "Yury R"
   ]
  },
  {
   "cell_type": "code",
   "execution_count": null,
   "id": "49bdec5c",
   "metadata": {},
   "outputs": [],
   "source": []
  }
 ],
 "metadata": {
  "kernelspec": {
   "display_name": "Python 3 (ipykernel)",
   "language": "python",
   "name": "python3"
  },
  "language_info": {
   "codemirror_mode": {
    "name": "ipython",
    "version": 3
   },
   "file_extension": ".py",
   "mimetype": "text/x-python",
   "name": "python",
   "nbconvert_exporter": "python",
   "pygments_lexer": "ipython3",
   "version": "3.11.3"
  }
 },
 "nbformat": 4,
 "nbformat_minor": 5
}
